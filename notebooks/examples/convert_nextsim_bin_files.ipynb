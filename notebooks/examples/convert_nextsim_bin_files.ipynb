{
 "cells": [
  {
   "cell_type": "code",
   "execution_count": null,
   "id": "106b068c",
   "metadata": {},
   "outputs": [],
   "source": [
    "import glob\n",
    "import os\n",
    "\n",
    "import numpy as np\n",
    "\n",
    "from pynextsim import NextsimBin"
   ]
  },
  {
   "cell_type": "code",
   "execution_count": null,
   "id": "1d00af93",
   "metadata": {},
   "outputs": [],
   "source": [
    "USER = os.getenv('USER')\n",
    "NODE_VARS = ['M_VT', 'M_wind', 'M_ocean']\n",
    "ELEM_VARS = [\n",
    "    'Damage',\n",
    "    'Concentration',\n",
    "    'Thickness',\n",
    "    'Sigma_0',\n",
    "    'Sigma_1',\n",
    "]\n",
    "\n",
    "def bin2npz(field_file):\n",
    "    npz_file = field_file.replace('.bin', '.npz')\n",
    "    n = NextsimBin(field_file)\n",
    "    n_nodes = n.mesh_info.nodes_x.size\n",
    "    \n",
    "    d = {name: n.get_var(name).astype(np.float32) for name in ELEM_VARS}\n",
    "    for name in NODE_VARS:\n",
    "        d[f'{name}_x'] = n.get_var(name)[:n_nodes].astype(np.float32)\n",
    "        d[f'{name}_y'] = n.get_var(name)[n_nodes:].astype(np.float32)\n",
    "\n",
    "    d['x'] = n.mesh_info.nodes_x\n",
    "    d['y'] = n.mesh_info.nodes_y\n",
    "    d['t'] = n.mesh_info.indices\n",
    "    d['i'] = n.mesh_info.get_var('id')\n",
    "    np.savez(npz_file, **d)"
   ]
  },
  {
   "cell_type": "code",
   "execution_count": null,
   "id": "8700b1af",
   "metadata": {},
   "outputs": [],
   "source": [
    "idir = f'/data2/{USER}/fran/'\n",
    "field_files = sorted(glob.glob(f'{idir}/field_2*bin'))\n",
    "for field_file in field_files:\n",
    "    bin2npz(field_file)"
   ]
  },
  {
   "cell_type": "code",
   "execution_count": null,
   "id": "d7d75cfe",
   "metadata": {},
   "outputs": [],
   "source": []
  }
 ],
 "metadata": {
  "kernelspec": {
   "display_name": "Python 3 (ipykernel)",
   "language": "python",
   "name": "python3"
  },
  "language_info": {
   "codemirror_mode": {
    "name": "ipython",
    "version": 3
   },
   "file_extension": ".py",
   "mimetype": "text/x-python",
   "name": "python",
   "nbconvert_exporter": "python",
   "pygments_lexer": "ipython3",
   "version": "3.10.12"
  }
 },
 "nbformat": 4,
 "nbformat_minor": 5
}
