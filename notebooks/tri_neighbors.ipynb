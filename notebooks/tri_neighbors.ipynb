{
 "cells": [
  {
   "cell_type": "code",
   "execution_count": 1,
   "id": "8b7c90c7",
   "metadata": {},
   "outputs": [],
   "source": [
    "import time\n",
    "from collections import defaultdict\n",
    "import numpy as np\n",
    "from pynextsim import NextsimBin"
   ]
  },
  {
   "cell_type": "code",
   "execution_count": 2,
   "id": "a748f03a",
   "metadata": {},
   "outputs": [],
   "source": [
    "class TriNeighbors:\n",
    "    neighbors = None\n",
    "    def __init__(self, t):\n",
    "        elem2edge, edge2elem = self.get_edge_elem_relationship(t)\n",
    "        # keep nearest neighbors for each element\n",
    "        self.neighbors = []\n",
    "        for i in range(t.shape[0]):\n",
    "            neighbors_lists = [edge2elem[edge] for edge in elem2edge[i] if edge in edge2elem]\n",
    "            neighbors_i = []\n",
    "            for n1 in neighbors_lists:\n",
    "                if len(n1) != 1:\n",
    "                    for n2 in n1:\n",
    "                        if n2 != i:\n",
    "                            neighbors_i.append(n2)\n",
    "            self.neighbors.append(neighbors_i)\n",
    "        self.nneighbors = [len(n) for n in self.neighbors]\n",
    "        \n",
    "    def get_edge_elem_relationship(self, t):\n",
    "        \"\"\" Create to maps: element to edge, and edge to element in one pass\"\"\"\n",
    "        elem2edge = []\n",
    "        edge2elem = defaultdict(list)\n",
    "        for i, elem in enumerate(t):\n",
    "            jj = [(elem[0], elem[1]), (elem[1], elem[2]), (elem[2], elem[0])]\n",
    "            edges = [tuple(sorted(j)) for j in jj]\n",
    "            elem2edge.append(edges)\n",
    "            for edge in edges:\n",
    "                edge2elem[edge].append(i)\n",
    "        return elem2edge, edge2elem\n",
    "    \n",
    "    def get_neighbors(self, i, n=1, e=()):\n",
    "        \"\"\" Get neighbors of element <i> crossing <n> edges\n",
    "\n",
    "        Parameters\n",
    "        ----------\n",
    "        i : int, index of element\n",
    "        n : int, number of edges to cross\n",
    "        e : (int,), indeces to exclude\n",
    "\n",
    "        Returns\n",
    "        -------\n",
    "        l : list, List of unique inidices of existing neighbor elements\n",
    "\n",
    "        \"\"\"\n",
    "        # return list of existing immediate neigbours\n",
    "        if n == 1:\n",
    "            return self.neighbors[i]\n",
    "        # recursively return list of neighbors after 1 edge crossing\n",
    "        n2 = []\n",
    "        for j in self.neighbors[i]:\n",
    "            if j not in e:\n",
    "                n2.extend(self.get_neighbors(j, n-1, e+(i,)))\n",
    "        return list(set(self.neighbors[i] + n2))\n",
    "\n",
    "    def get_neighbors_many(self, indices, n=1):\n",
    "        \"\"\" Group neighbours of several elements \"\"\"\n",
    "        neighbors_many = [self.get_neighbors(i, n=n) for i in indices]\n",
    "        return np.unique(np.hstack(neighbors_many)).astype(int)\n",
    "    \n",
    "    def get_distance_to_border(self):\n",
    "        dist = np.zeros(len(self.neighbors)) + np.nan\n",
    "        border = np.where(np.array(self.nneighbors) < 3)[0]\n",
    "        dist[border] = 0\n",
    "\n",
    "        d = 1\n",
    "        while np.any(np.isnan(dist)):\n",
    "            for i in np.where(dist == d - 1)[0]:\n",
    "                neibs = self.get_neighbors(i)\n",
    "                for j in neibs:\n",
    "                    if np.isnan(dist[j]):\n",
    "                        dist[j] = d\n",
    "            d += 1\n",
    "        return dist"
   ]
  },
  {
   "cell_type": "code",
   "execution_count": 3,
   "id": "0d46ba7d",
   "metadata": {},
   "outputs": [
    {
     "data": {
      "text/plain": [
       "(138086, 3)"
      ]
     },
     "execution_count": 3,
     "metadata": {},
     "output_type": "execute_result"
    }
   ],
   "source": [
    "t = np.load('field_20230101T000000Z.npz')['t']\n",
    "t.shape"
   ]
  },
  {
   "cell_type": "code",
   "execution_count": 4,
   "id": "56063ee1",
   "metadata": {},
   "outputs": [
    {
     "name": "stdout",
     "output_type": "stream",
     "text": [
      "774 ms ± 11.2 ms per loop (mean ± std. dev. of 7 runs, 1 loop each)\n"
     ]
    }
   ],
   "source": [
    "tn = TriNeighbors(t)\n",
    "%timeit TriNeighbors(t)\n"
   ]
  },
  {
   "cell_type": "code",
   "execution_count": 5,
   "id": "a0a02569",
   "metadata": {},
   "outputs": [
    {
     "data": {
      "text/plain": [
       "[102, 25758, 25764]"
      ]
     },
     "execution_count": 5,
     "metadata": {},
     "output_type": "execute_result"
    }
   ],
   "source": [
    "# only nearest neighbors (distance = 1 edge)\n",
    "tn.get_neighbors(100, 1)"
   ]
  },
  {
   "cell_type": "code",
   "execution_count": 6,
   "id": "f3607d6e",
   "metadata": {},
   "outputs": [
    {
     "data": {
      "text/plain": [
       "[25792,\n",
       " 25761,\n",
       " 25791,\n",
       " 135075,\n",
       " 25764,\n",
       " 100,\n",
       " 102,\n",
       " 135076,\n",
       " 25767,\n",
       " 25760,\n",
       " 101,\n",
       " 133805,\n",
       " 135151,\n",
       " 133848,\n",
       " 25756,\n",
       " 25757,\n",
       " 25758,\n",
       " 25759]"
      ]
     },
     "execution_count": 6,
     "metadata": {},
     "output_type": "execute_result"
    }
   ],
   "source": [
    "# all neighbors at distance <= 3 edges\n",
    "tn.get_neighbors(100, 3)"
   ]
  },
  {
   "cell_type": "code",
   "execution_count": 7,
   "id": "ae98ce4f",
   "metadata": {},
   "outputs": [],
   "source": [
    "def get_neighbors(i, n=1):\n",
    "    \"\"\" Get <n> neighbours for elemenets with indices in <i> \"\"\"\n",
    "    nn = []\n",
    "    for j in i:\n",
    "        nn.append(tn.get_neighbors(j))\n",
    "    return nn"
   ]
  },
  {
   "cell_type": "code",
   "execution_count": 8,
   "id": "76e0e636",
   "metadata": {},
   "outputs": [
    {
     "name": "stdout",
     "output_type": "stream",
     "text": [
      "342 ns ± 1.46 ns per loop (mean ± std. dev. of 7 runs, 1,000,000 loops each)\n"
     ]
    }
   ],
   "source": [
    "%timeit get_neighbors([10])"
   ]
  },
  {
   "cell_type": "code",
   "execution_count": 9,
   "id": "24bd4567",
   "metadata": {},
   "outputs": [
    {
     "name": "stdout",
     "output_type": "stream",
     "text": [
      "2.17 µs ± 12 ns per loop (mean ± std. dev. of 7 runs, 100,000 loops each)\n"
     ]
    }
   ],
   "source": [
    "%timeit get_neighbors(range(10))"
   ]
  },
  {
   "cell_type": "code",
   "execution_count": 10,
   "id": "5d36b89f",
   "metadata": {},
   "outputs": [
    {
     "name": "stdout",
     "output_type": "stream",
     "text": [
      "19.5 µs ± 42.2 ns per loop (mean ± std. dev. of 7 runs, 100,000 loops each)\n"
     ]
    }
   ],
   "source": [
    "%timeit get_neighbors(range(100))"
   ]
  },
  {
   "cell_type": "code",
   "execution_count": 11,
   "id": "1e8a92e7",
   "metadata": {},
   "outputs": [
    {
     "name": "stdout",
     "output_type": "stream",
     "text": [
      "19.6 ms ± 18 µs per loop (mean ± std. dev. of 7 runs, 100 loops each)\n"
     ]
    }
   ],
   "source": [
    "%timeit get_neighbors(range(100000))"
   ]
  },
  {
   "cell_type": "code",
   "execution_count": 12,
   "id": "ab368783",
   "metadata": {},
   "outputs": [
    {
     "name": "stdout",
     "output_type": "stream",
     "text": [
      "19.6 ms ± 3.4 µs per loop (mean ± std. dev. of 7 runs, 100 loops each)\n"
     ]
    }
   ],
   "source": [
    "# get all neighbors at a distance <= 3 edges\n",
    "%timeit get_neighbors(range(100000), 3)"
   ]
  },
  {
   "cell_type": "code",
   "execution_count": null,
   "id": "89744e6c",
   "metadata": {},
   "outputs": [],
   "source": []
  }
 ],
 "metadata": {
  "kernelspec": {
   "display_name": "Python 3 (ipykernel)",
   "language": "python",
   "name": "python3"
  },
  "language_info": {
   "codemirror_mode": {
    "name": "ipython",
    "version": 3
   },
   "file_extension": ".py",
   "mimetype": "text/x-python",
   "name": "python",
   "nbconvert_exporter": "python",
   "pygments_lexer": "ipython3",
   "version": "3.10.2"
  }
 },
 "nbformat": 4,
 "nbformat_minor": 5
}
