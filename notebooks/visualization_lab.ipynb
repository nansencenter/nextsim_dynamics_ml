{
 "cells": [
  {
   "cell_type": "code",
   "execution_count": 5,
   "metadata": {},
   "outputs": [
    {
     "ename": "ModuleNotFoundError",
     "evalue": "No module named 'ice_graph'",
     "output_type": "error",
     "traceback": [
      "\u001b[0;31m---------------------------------------------------------------------------\u001b[0m",
      "\u001b[0;31mModuleNotFoundError\u001b[0m                       Traceback (most recent call last)",
      "Cell \u001b[0;32mIn[5], line 10\u001b[0m\n\u001b[1;32m      8\u001b[0m \u001b[38;5;28;01mfrom\u001b[39;00m \u001b[38;5;21;01mtqdm\u001b[39;00m \u001b[38;5;28;01mimport\u001b[39;00m tqdm\n\u001b[1;32m      9\u001b[0m \u001b[38;5;28;01mfrom\u001b[39;00m \u001b[38;5;21;01mtorch_geometric\u001b[39;00m\u001b[38;5;21;01m.\u001b[39;00m\u001b[38;5;21;01mdata\u001b[39;00m \u001b[38;5;28;01mimport\u001b[39;00m Data\n\u001b[0;32m---> 10\u001b[0m \u001b[38;5;28;01mfrom\u001b[39;00m \u001b[38;5;21;01mice_graph\u001b[39;00m\u001b[38;5;21;01m.\u001b[39;00m\u001b[38;5;21;01mice_graph\u001b[39;00m \u001b[38;5;28;01mimport\u001b[39;00m Ice_graph\n",
      "\u001b[0;31mModuleNotFoundError\u001b[0m: No module named 'ice_graph'"
     ]
    }
   ],
   "source": [
    "import os\n",
    "\n",
    "import numpy as np\n",
    "import matplotlib.pyplot as plt\n",
    "import torch\n",
    "import torch.functional as nn\n",
    "\n",
    "from tqdm import tqdm\n",
    "from torch_geometric.data import Data\n",
    "from ice_graph.ice_graph import Ice_graph\n"
   ]
  },
  {
   "cell_type": "markdown",
   "metadata": {},
   "source": [
    "## Notebook for creating gifs, images, maps..."
   ]
  },
  {
   "cell_type": "code",
   "execution_count": 3,
   "metadata": {},
   "outputs": [
    {
     "ename": "NameError",
     "evalue": "name 'Ice_graph' is not defined",
     "output_type": "error",
     "traceback": [
      "\u001b[0;31m---------------------------------------------------------------------------\u001b[0m",
      "\u001b[0;31mNameError\u001b[0m                                 Traceback (most recent call last)",
      "Cell \u001b[0;32mIn[3], line 4\u001b[0m\n\u001b[1;32m      1\u001b[0m file_graphs \u001b[38;5;241m=\u001b[39m [\u001b[38;5;28mdict\u001b[39m(np\u001b[38;5;241m.\u001b[39mload(\u001b[38;5;124mf\u001b[39m\u001b[38;5;124m'\u001b[39m\u001b[38;5;124m../data/\u001b[39m\u001b[38;5;132;01m{\u001b[39;00mfile\u001b[38;5;132;01m}\u001b[39;00m\u001b[38;5;124m'\u001b[39m)) \u001b[38;5;28;01mfor\u001b[39;00m file \u001b[38;5;129;01min\u001b[39;00m \u001b[38;5;28msorted\u001b[39m(os\u001b[38;5;241m.\u001b[39mlistdir(\u001b[38;5;124m'\u001b[39m\u001b[38;5;124m../data\u001b[39m\u001b[38;5;124m'\u001b[39m)) \u001b[38;5;28;01mif\u001b[39;00m file[\u001b[38;5;241m-\u001b[39m\u001b[38;5;241m3\u001b[39m:]\u001b[38;5;241m==\u001b[39m\u001b[38;5;124m'\u001b[39m\u001b[38;5;124mnpz\u001b[39m\u001b[38;5;124m'\u001b[39m]\n\u001b[1;32m      3\u001b[0m file_graphs \u001b[38;5;241m=\u001b[39m [\u001b[38;5;28mdict\u001b[39m(np\u001b[38;5;241m.\u001b[39mload(\u001b[38;5;124mf\u001b[39m\u001b[38;5;124m'\u001b[39m\u001b[38;5;124m../example_data/\u001b[39m\u001b[38;5;132;01m{\u001b[39;00mfile\u001b[38;5;132;01m}\u001b[39;00m\u001b[38;5;124m'\u001b[39m)) \u001b[38;5;28;01mfor\u001b[39;00m file \u001b[38;5;129;01min\u001b[39;00m \u001b[38;5;28msorted\u001b[39m(os\u001b[38;5;241m.\u001b[39mlistdir(\u001b[38;5;124m'\u001b[39m\u001b[38;5;124m../example_data\u001b[39m\u001b[38;5;124m'\u001b[39m)) \u001b[38;5;28;01mif\u001b[39;00m file[\u001b[38;5;241m-\u001b[39m\u001b[38;5;241m3\u001b[39m:]\u001b[38;5;241m==\u001b[39m\u001b[38;5;124m'\u001b[39m\u001b[38;5;124mnpz\u001b[39m\u001b[38;5;124m'\u001b[39m]\n\u001b[0;32m----> 4\u001b[0m nextsim \u001b[38;5;241m=\u001b[39m Ice_graph(\n\u001b[1;32m      5\u001b[0m     file_graphs,\n\u001b[1;32m      6\u001b[0m     vertex_element_features \u001b[38;5;241m=\u001b[39m\n\u001b[1;32m      7\u001b[0m         [\u001b[38;5;124m'\u001b[39m\u001b[38;5;124mM_wind_x\u001b[39m\u001b[38;5;124m'\u001b[39m,\n\u001b[1;32m      8\u001b[0m         \u001b[38;5;124m'\u001b[39m\u001b[38;5;124mM_wind_y\u001b[39m\u001b[38;5;124m'\u001b[39m,\n\u001b[1;32m      9\u001b[0m         \u001b[38;5;124m'\u001b[39m\u001b[38;5;124mM_ocean_x\u001b[39m\u001b[38;5;124m'\u001b[39m,\n\u001b[1;32m     10\u001b[0m         \u001b[38;5;124m'\u001b[39m\u001b[38;5;124mM_ocean_y\u001b[39m\u001b[38;5;124m'\u001b[39m,\n\u001b[1;32m     11\u001b[0m         \u001b[38;5;124m'\u001b[39m\u001b[38;5;124mM_VT_x\u001b[39m\u001b[38;5;124m'\u001b[39m,\n\u001b[1;32m     12\u001b[0m         \u001b[38;5;124m'\u001b[39m\u001b[38;5;124mM_VT_y\u001b[39m\u001b[38;5;124m'\u001b[39m,\n\u001b[1;32m     13\u001b[0m         \u001b[38;5;124m'\u001b[39m\u001b[38;5;124mx\u001b[39m\u001b[38;5;124m'\u001b[39m,\n\u001b[1;32m     14\u001b[0m         \u001b[38;5;124m'\u001b[39m\u001b[38;5;124my\u001b[39m\u001b[38;5;124m'\u001b[39m]\n\u001b[1;32m     15\u001b[0m )\n\u001b[1;32m     17\u001b[0m n_generations \u001b[38;5;241m=\u001b[39m \u001b[38;5;241m30000\u001b[39m\n\u001b[1;32m     18\u001b[0m predict_vel \u001b[38;5;241m=\u001b[39m \u001b[38;5;28;01mTrue\u001b[39;00m\n",
      "\u001b[0;31mNameError\u001b[0m: name 'Ice_graph' is not defined"
     ]
    }
   ],
   "source": [
    "file_graphs = [dict(np.load(f'../data/{file}')) for file in sorted(os.listdir('../data')) if file[-3:]=='npz']\n",
    "\n",
    "file_graphs = [dict(np.load(f'../example_data/{file}')) for file in sorted(os.listdir('../example_data')) if file[-3:]=='npz']\n",
    "nextsim = Ice_graph(\n",
    "    file_graphs,\n",
    "    vertex_element_features =\n",
    "        ['M_wind_x',\n",
    "        'M_wind_y',\n",
    "        'M_ocean_x',\n",
    "        'M_ocean_y',\n",
    "        'M_VT_x',\n",
    "        'M_VT_y',\n",
    "        'x',\n",
    "        'y']\n",
    ")\n",
    "\n",
    "n_generations = 30000\n",
    "predict_vel = True\n",
    "\n",
    "radius = 400000 #meters\n",
    "iterations = 1\n",
    "time_index = 1 #index of element graph to fetch samples from\n",
    "time_index_val = 12\n",
    "\n",
    "validation_center = (0,0)\n",
    "training_center = (0,0)\n",
    "samples_train = nextsim.get_samples_area(training_center,radius,time_index=time_index,n_samples=n_generations,elements=False)\n",
    "samples_val = nextsim.get_samples_area(validation_center,radius,time_index=time_index_val,n_samples=int(n_generations/5),elements=False)\n",
    "\n",
    "\n"
   ]
  },
  {
   "cell_type": "code",
   "execution_count": 71,
   "metadata": {},
   "outputs": [],
   "source": [
    "#This cell plots the spatial distribution of node indexes incrementally. It helped me to understand the indexes\n",
    "\n",
    "if not os.path.isdir('../figures/indexes'):\n",
    "    os.mkdir('../figures/indexes')\n",
    "\n",
    "vel_norm = np.sqrt(d0['M_VT_x']**2 + d0['M_VT_y']**2)\n",
    "step = 1000\n",
    "lenght = vel_norm.shape[0]\n",
    "\n",
    "\n",
    "for i in range(0,lenght,step):\n",
    "    fig,ax = plt.subplots(1,1,figsize=(10,10))\n",
    "    ax.scatter(d0['x'][:i],d0['y'][:i], c=vel_norm[:i], s= 3 ,marker='.',linewidths=.7)\n",
    "    ax.set_title(f'{i}/{lenght} points')\n",
    "    plt.savefig(f'../figures/indexes/points_{i}.png')\n",
    "    plt.close(fig)"
   ]
  },
  {
   "cell_type": "code",
   "execution_count": 46,
   "metadata": {},
   "outputs": [],
   "source": [
    "#Simple \"movie\" to see that the ice actually moves :)\n",
    "\n",
    "if not os.path.isdir('../figures/velocities'):\n",
    "    os.mkdir('../figures/velocities')\n",
    "\n",
    "for i,file in enumerate(file_graphs):\n",
    "    # plot sea ice concentration (for each ELEMENT)\n",
    "    vel_norm = np.sqrt(file['M_VT_x']**2 + file['M_VT_y']**2)\n",
    "\n",
    "    fig = plt.figure(figsize=(10,10))\n",
    "    plt.tripcolor(file['x'], file['y'], vel_norm, triangles=file['t'])\n",
    "    plt.colorbar()\n",
    "    plt.gca().set_aspect('equal')\n",
    "    plt.savefig(f'../figures/velocities/snapshot_{i}.png')\n",
    "    plt.close(fig)"
   ]
  },
  {
   "cell_type": "code",
   "execution_count": 2,
   "metadata": {},
   "outputs": [
    {
     "ename": "NameError",
     "evalue": "name 'nextsim' is not defined",
     "output_type": "error",
     "traceback": [
      "\u001b[0;31m---------------------------------------------------------------------------\u001b[0m",
      "\u001b[0;31mNameError\u001b[0m                                 Traceback (most recent call last)",
      "Cell \u001b[0;32mIn[2], line 1\u001b[0m\n\u001b[0;32m----> 1\u001b[0m full_graph \u001b[38;5;241m=\u001b[39m nextsim\u001b[38;5;241m.\u001b[39mget_vertex_centered_graph(\n\u001b[1;32m      2\u001b[0m         samples_train[\u001b[38;5;241m0\u001b[39m],\n\u001b[1;32m      3\u001b[0m         time_index \u001b[38;5;241m=\u001b[39m time_index,\n\u001b[1;32m      4\u001b[0m         target_iter\u001b[38;5;241m=\u001b[39miterations,\n\u001b[1;32m      5\u001b[0m         include_vertex\u001b[38;5;241m=\u001b[39m\u001b[38;5;28;01mTrue\u001b[39;00m,\n\u001b[1;32m      6\u001b[0m         velocity\u001b[38;5;241m=\u001b[39mpredict_vel,\n\u001b[1;32m      7\u001b[0m         n_neighbours\u001b[38;5;241m=\u001b[39m\u001b[38;5;241m1\u001b[39m\n\u001b[1;32m      8\u001b[0m     )\n\u001b[1;32m     10\u001b[0m center \u001b[38;5;241m=\u001b[39m full_graph[\u001b[38;5;241m0\u001b[39m]\u001b[38;5;241m.\u001b[39my[\u001b[38;5;241m1\u001b[39m]\n\u001b[1;32m     13\u001b[0m \u001b[38;5;28;01mfor\u001b[39;00m time_index \u001b[38;5;129;01min\u001b[39;00m tqdm(\u001b[38;5;28mrange\u001b[39m(\u001b[38;5;241m1\u001b[39m,\u001b[38;5;241m24\u001b[39m)):\n",
      "\u001b[0;31mNameError\u001b[0m: name 'nextsim' is not defined"
     ]
    }
   ],
   "source": [
    "\n",
    "full_graph = nextsim.get_vertex_centered_graph(\n",
    "        samples_train[0],\n",
    "        time_index = time_index,\n",
    "        target_iter=iterations,\n",
    "        include_vertex=True,\n",
    "        velocity=predict_vel,\n",
    "        n_neighbours=1\n",
    "    )\n",
    "\n",
    "center = full_graph[0].y[1]\n",
    "\n",
    "\n",
    "for time_index in tqdm(range(1,24)):\n",
    "\n",
    "    fet = [ 'Concentration', 'Thickness', 'x', 'y']\n",
    "\n",
    "    full_graph = nextsim.get_vertex_centered_graph(\n",
    "        samples_train[0],\n",
    "        time_index = time_index,\n",
    "        target_iter=iterations,\n",
    "        e_features=fet,\n",
    "        include_vertex=True,\n",
    "        velocity=True,\n",
    "        n_neighbours=20\n",
    "    )\n",
    "\n",
    "\n",
    "    e_g,v_g = full_graph\n",
    "\n",
    "    plt.figure(figsize=(15,10))\n",
    "    central_pos = v_g.y[1]\n",
    "\n",
    "\n",
    "    for edge in v_g.edge_index.t():\n",
    "        positions = np.array([v_g.pos.t()[edge[0]],v_g.pos.t()[edge[1]]])\n",
    "        positions = positions.transpose()\n",
    "        plt.plot(positions[0],positions[1],color='red',linewidth=.9)\n",
    "\n",
    "    \"\"\"\n",
    "\n",
    "    for edge in e_g.edge_index.t():\n",
    "        positions = np.array([e_g.pos.t()[edge[0]],e_g.pos.t()[edge[1]]])\n",
    "        positions = positions.transpose()\n",
    "        plt.plot(positions[0],positions[1],color='blue',linewidth=.5,alpha=.5)\n",
    "    \"\"\"\n",
    "    #plt.scatter(e_g.pos[0],e_g.pos[1],color='blue',label='Element',alpha=.5, s= 10)\n",
    "    plt.scatter(v_g.pos[0],v_g.pos[1],color='red',label='Vertex', s= 4, alpha=.5)\n",
    "\n",
    "    plt.scatter(central_pos[0],central_pos[1],marker='x', s=100, linewidth=5, c='red', label='Central vertex')\n",
    "\n",
    "\n",
    "    interp = nextsim.get_forcings(time_index, features=['M_VT_x','M_VT_y'])\n",
    "    X = np.linspace(center[0]-radius,center[0]+radius,num=1000)\n",
    "    Y = np.linspace(center[1]-radius,center[1]+radius,num=1000)\n",
    "    X, Y = np.meshgrid(X, Y)  # 2D grid for interpolation\n",
    "    Z_x = interp['M_VT_x'](X,Y)\n",
    "    Z_y = interp['M_VT_y'](X,Y)\n",
    "    norm = np.sqrt(Z_x**2 + Z_y**2)\n",
    "    plt.contourf(X,Y,norm,levels=30,cmap='viridis',alpha=.7,label='Sea ice velocity (m/s)')\n",
    "\n",
    "    plt.xlim(center[0]-radius/2,center[0]+radius/2)\n",
    "    plt.ylim(center[1]-radius/2,center[1]+radius/2)\n",
    "\n",
    "    plt.legend()\n",
    "    plt.title(f\"Graph at time index {time_index}\")\n",
    "    plt.colorbar(label='Sea ice velocity (m/s)')\n",
    "    plt.savefig(f'../figures/graph_evolution/graph_{time_index}.png')"
   ]
  }
 ],
 "metadata": {
  "kernelspec": {
   "display_name": "nextsim_ml",
   "language": "python",
   "name": "python3"
  },
  "language_info": {
   "codemirror_mode": {
    "name": "ipython",
    "version": 3
   },
   "file_extension": ".py",
   "mimetype": "text/x-python",
   "name": "python",
   "nbconvert_exporter": "python",
   "pygments_lexer": "ipython3",
   "version": "3.11.5"
  }
 },
 "nbformat": 4,
 "nbformat_minor": 2
}
