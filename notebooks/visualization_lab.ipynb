{
 "cells": [
  {
   "cell_type": "code",
   "execution_count": 1,
   "metadata": {},
   "outputs": [],
   "source": [
    "import os\n",
    "\n",
    "import numpy as np\n",
    "import matplotlib.pyplot as plt\n",
    "import torch\n",
    "import torch.functional as nn\n",
    "\n",
    "from tqdm import tqdm\n",
    "from torch_geometric.data import Data"
   ]
  },
  {
   "cell_type": "markdown",
   "metadata": {},
   "source": [
    "## Notebook for creating gifs, images, maps..."
   ]
  },
  {
   "cell_type": "code",
   "execution_count": 6,
   "metadata": {},
   "outputs": [
    {
     "data": {
      "text/plain": [
       "dict_keys(['Damage', 'Concentration', 'Thickness', 'Sigma_0', 'Sigma_1', 'M_VT_x', 'M_VT_y', 'M_wind_x', 'M_wind_y', 'M_ocean_x', 'M_ocean_y', 'x', 'y', 't', 'i'])"
      ]
     },
     "execution_count": 6,
     "metadata": {},
     "output_type": "execute_result"
    }
   ],
   "source": [
    "file_graphs = [dict(np.load(f'../data/{file}')) for file in sorted(os.listdir('../data')) if file[-3:]=='npz']\n",
    "d0 = file_graphs[1]\n",
    "d0.keys()"
   ]
  },
  {
   "cell_type": "code",
   "execution_count": 71,
   "metadata": {},
   "outputs": [],
   "source": [
    "#This cell plots the spatial distribution of node indexes incrementally. It helped me to understand the indexes\n",
    "\n",
    "if not os.path.isdir('../figures/indexes'):\n",
    "    os.mkdir('../figures/indexes')\n",
    "\n",
    "vel_norm = np.sqrt(d0['M_VT_x']**2 + d0['M_VT_y']**2)\n",
    "step = 1000\n",
    "lenght = vel_norm.shape[0]\n",
    "\n",
    "\n",
    "for i in range(0,lenght,step):\n",
    "    fig,ax = plt.subplots(1,1,figsize=(10,10))\n",
    "    ax.scatter(d0['x'][:i],d0['y'][:i], c=vel_norm[:i], s= 3 ,marker='.',linewidths=.7)\n",
    "    ax.set_title(f'{i}/{lenght} points')\n",
    "    plt.savefig(f'../figures/indexes/points_{i}.png')\n",
    "    plt.close(fig)"
   ]
  },
  {
   "cell_type": "code",
   "execution_count": 46,
   "metadata": {},
   "outputs": [],
   "source": [
    "#Simple \"movie\" to see that the ice actually moves :)\n",
    "\n",
    "if not os.path.isdir('../figures/velocities'):\n",
    "    os.mkdir('../figures/velocities')\n",
    "\n",
    "for i,file in enumerate(file_graphs):\n",
    "    # plot sea ice concentration (for each ELEMENT)\n",
    "    vel_norm = np.sqrt(file['M_VT_x']**2 + file['M_VT_y']**2)\n",
    "\n",
    "    fig = plt.figure(figsize=(10,10))\n",
    "    plt.tripcolor(file['x'], file['y'], vel_norm, triangles=file['t'])\n",
    "    plt.colorbar()\n",
    "    plt.gca().set_aspect('equal')\n",
    "    plt.savefig(f'../figures/velocities/snapshot_{i}.png')\n",
    "    plt.close(fig)"
   ]
  },
  {
   "cell_type": "code",
   "execution_count": null,
   "metadata": {},
   "outputs": [],
   "source": []
  }
 ],
 "metadata": {
  "kernelspec": {
   "display_name": "nextsim_ml",
   "language": "python",
   "name": "python3"
  },
  "language_info": {
   "codemirror_mode": {
    "name": "ipython",
    "version": 3
   },
   "file_extension": ".py",
   "mimetype": "text/x-python",
   "name": "python",
   "nbconvert_exporter": "python",
   "pygments_lexer": "ipython3",
   "version": "3.11.5"
  }
 },
 "nbformat": 4,
 "nbformat_minor": 2
}
