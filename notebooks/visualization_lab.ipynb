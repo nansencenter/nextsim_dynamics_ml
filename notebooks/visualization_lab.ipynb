{
 "cells": [
  {
   "cell_type": "code",
   "execution_count": 2,
   "metadata": {},
   "outputs": [],
   "source": [
    "import os\n",
    "\n",
    "import numpy as np\n",
    "import matplotlib.pyplot as plt\n",
    "import torch\n",
    "import torch.functional as nn\n",
    "\n",
    "from tqdm import tqdm\n",
    "from torch_geometric.data import Data\n",
    "import sys\n",
    "sys.path.append('../src')\n",
    "from ice_graph.ice_graph import Ice_graph\n"
   ]
  },
  {
   "cell_type": "markdown",
   "metadata": {},
   "source": [
    "## Notebook for creating gifs, images, maps..."
   ]
  },
  {
   "cell_type": "code",
   "execution_count": 3,
   "metadata": {},
   "outputs": [
    {
     "name": "stdout",
     "output_type": "stream",
     "text": [
      "field_20230102T170000Z.npz\n"
     ]
    },
    {
     "data": {
      "text/plain": [
       "(336, 335)"
      ]
     },
     "execution_count": 3,
     "metadata": {},
     "output_type": "execute_result"
    }
   ],
   "source": [
    "files = sorted(os.listdir('../../week_data'))\n",
    "file_graphs = []\n",
    "for file in files:\n",
    "    try:\n",
    "        file_graphs.append(dict(np.load('../../week_data/' + file)))\n",
    "    except:\n",
    "        print(file)\n",
    "len(files),len(file_graphs)"
   ]
  },
  {
   "cell_type": "code",
   "execution_count": 4,
   "metadata": {},
   "outputs": [],
   "source": [
    "\n",
    "#file_graphs = [dict(np.load(f'../../week_data/{file}')) for file in sorted(os.listdir('../../week_data')) if file[-3:]=='npz']\n",
    "nextsim = Ice_graph(\n",
    "    file_graphs,\n",
    "    vertex_element_features =\n",
    "        ['M_wind_x',\n",
    "        'M_wind_y',\n",
    "        'M_ocean_x',\n",
    "        'M_ocean_y',\n",
    "        'M_VT_x',\n",
    "        'M_VT_y',\n",
    "        'x',\n",
    "        'y']\n",
    ")\n",
    "\n",
    "n_generations = 30000\n",
    "predict_vel = True\n",
    "\n",
    "radius = 400000 #meters\n",
    "iterations = 1\n",
    "time_index = 1 #index of element graph to fetch samples from\n",
    "time_index_val = 12\n",
    "\n",
    "validation_center = (0,0)\n",
    "training_center = (0,0)\n",
    "samples_train = nextsim.get_samples_area(training_center,radius,time_index=time_index,n_samples=n_generations,elements=False)\n",
    "samples_val = nextsim.get_samples_area(validation_center,radius,time_index=time_index_val,n_samples=int(n_generations/5),elements=False)\n",
    "\n",
    "\n"
   ]
  },
  {
   "cell_type": "code",
   "execution_count": 71,
   "metadata": {},
   "outputs": [],
   "source": [
    "#This cell plots the spatial distribution of node indexes incrementally. It helped me to understand the indexes\n",
    "\n",
    "if not os.path.isdir('../figures/indexes'):\n",
    "    os.mkdir('../figures/indexes')\n",
    "\n",
    "vel_norm = np.sqrt(d0['M_VT_x']**2 + d0['M_VT_y']**2)\n",
    "step = 1000\n",
    "lenght = vel_norm.shape[0]\n",
    "\n",
    "\n",
    "for i in range(0,lenght,step):\n",
    "    fig,ax = plt.subplots(1,1,figsize=(10,10))\n",
    "    ax.scatter(d0['x'][:i],d0['y'][:i], c=vel_norm[:i], s= 3 ,marker='.',linewidths=.7)\n",
    "    ax.set_title(f'{i}/{lenght} points')\n",
    "    plt.savefig(f'../figures/indexes/points_{i}.png')\n",
    "    plt.close(fig)"
   ]
  },
  {
   "cell_type": "code",
   "execution_count": 46,
   "metadata": {},
   "outputs": [],
   "source": [
    "#Simple \"movie\" to see that the ice actually moves :)\n",
    "\n",
    "if not os.path.isdir('../figures/velocities'):\n",
    "    os.mkdir('../figures/velocities')\n",
    "\n",
    "for i,file in enumerate(file_graphs):\n",
    "    # plot sea ice concentration (for each ELEMENT)\n",
    "    vel_norm = np.sqrt(file['M_VT_x']**2 + file['M_VT_y']**2)\n",
    "\n",
    "    fig = plt.figure(figsize=(10,10))\n",
    "    plt.tripcolor(file['x'], file['y'], vel_norm, triangles=file['t'])\n",
    "    plt.colorbar()\n",
    "    plt.gca().set_aspect('equal')\n",
    "    plt.savefig(f'../figures/velocities/snapshot_{i}.png')\n",
    "    plt.close(fig)"
   ]
  },
  {
   "cell_type": "code",
   "execution_count": 16,
   "metadata": {},
   "outputs": [
    {
     "data": {
      "text/plain": [
       "False"
      ]
     },
     "execution_count": 16,
     "metadata": {},
     "output_type": "execute_result"
    }
   ],
   "source": [
    "np.isin(['a', 'b'],  ['c','d','a']).all()"
   ]
  },
  {
   "cell_type": "code",
   "execution_count": 5,
   "metadata": {},
   "outputs": [
    {
     "data": {
      "text/plain": [
       "dict_keys(['M_wind_x', 'M_wind_y', 'M_ocean_x', 'M_ocean_y'])"
      ]
     },
     "execution_count": 5,
     "metadata": {},
     "output_type": "execute_result"
    }
   ],
   "source": [
    "interp.keys()"
   ]
  },
  {
   "cell_type": "code",
   "execution_count": 5,
   "metadata": {},
   "outputs": [
    {
     "name": "stderr",
     "output_type": "stream",
     "text": [
      "  0%|          | 0/334 [00:00<?, ?it/s]/tmp/ipykernel_22227/2662803831.py:59: UserWarning: The following kwargs were not used by contour: 'label'\n",
      "  plt.contourf(X,Y,norm,levels=30,cmap='viridis',alpha=.7,label='Sea ice velocity (m/s)')\n",
      "  6%|▌         | 20/334 [03:56<1:02:08, 11.87s/it]/tmp/ipykernel_22227/2662803831.py:30: RuntimeWarning: More than 20 figures have been opened. Figures created through the pyplot interface (`matplotlib.pyplot.figure`) are retained until explicitly closed and may consume too much memory. (To control this warning, see the rcParam `figure.max_open_warning`). Consider using `matplotlib.pyplot.close()`.\n",
      "  plt.figure(figsize=(15,10))\n",
      " 15%|█▍        | 49/334 [10:08<1:15:14, 15.84s/it]"
     ]
    }
   ],
   "source": [
    "\n",
    "full_graph = nextsim.get_vertex_centered_graph(\n",
    "        samples_train[0],\n",
    "        time_index = time_index,\n",
    "        target_iter=iterations,\n",
    "        include_vertex=True,\n",
    "        velocity=predict_vel,\n",
    "        n_neighbours=1\n",
    "    )\n",
    "\n",
    "center = full_graph[0].y[1]\n",
    "\n",
    "\n",
    "for time_index in tqdm(range(1,len(file_graphs))):\n",
    "\n",
    "    fet = [ 'Concentration', 'Thickness', 'x', 'y']\n",
    "\n",
    "    full_graph = nextsim.get_vertex_centered_graph(\n",
    "        samples_train[0],\n",
    "        time_index = time_index,\n",
    "        target_iter=iterations,\n",
    "        e_features=fet,\n",
    "        include_vertex=True,\n",
    "        velocity=True,\n",
    "        n_neighbours=20\n",
    "    )\n",
    "\n",
    "\n",
    "    e_g,v_g = full_graph\n",
    "\n",
    "    plt.figure(figsize=(15,10))\n",
    "    central_pos = v_g.y[1]\n",
    "\n",
    "\n",
    "    for edge in v_g.edge_index.t():\n",
    "        positions = np.array([v_g.pos.t()[edge[0]],v_g.pos.t()[edge[1]]])\n",
    "        positions = positions.transpose()\n",
    "        plt.plot(positions[0],positions[1],color='red',linewidth=.9)\n",
    "\n",
    "    \"\"\"\n",
    "\n",
    "    for edge in e_g.edge_index.t():\n",
    "        positions = np.array([e_g.pos.t()[edge[0]],e_g.pos.t()[edge[1]]])\n",
    "        positions = positions.transpose()\n",
    "        plt.plot(positions[0],positions[1],color='blue',linewidth=.5,alpha=.5)\n",
    "    \"\"\"\n",
    "    #plt.scatter(e_g.pos[0],e_g.pos[1],color='blue',label='Element',alpha=.5, s= 10)\n",
    "    plt.scatter(v_g.pos[0],v_g.pos[1],color='red',label='Vertex', s= 4, alpha=.5)\n",
    "\n",
    "    plt.scatter(central_pos[0],central_pos[1],marker='x', s=100, linewidth=5, c='red', label='Central vertex')\n",
    "\n",
    "\n",
    "    interp = nextsim.get_forcings(time_index, features=['M_VT_x','M_VT_y'])\n",
    "    X = np.linspace(center[0]-radius,center[0]+radius,num=1000)\n",
    "    Y = np.linspace(center[1]-radius,center[1]+radius,num=1000)\n",
    "    X, Y = np.meshgrid(X, Y)  # 2D grid for interpolation\n",
    "    Z_x = interp['M_VT_x'](X,Y)\n",
    "    Z_y = interp['M_VT_y'](X,Y)\n",
    "    norm = np.sqrt(Z_x**2 + Z_y**2)\n",
    "    plt.contourf(X,Y,norm,levels=30,cmap='viridis',alpha=.7,label='Sea ice velocity (m/s)')\n",
    "\n",
    "    plt.xlim(center[0]-radius/2,center[0]+radius/2)\n",
    "    plt.ylim(center[1]-radius/2,center[1]+radius/2)\n",
    "\n",
    "    plt.legend()\n",
    "    plt.title(f\"Graph at time index {time_index}\")\n",
    "    plt.colorbar(label='Sea ice velocity (m/s)')\n",
    "    plt.savefig(f'../figures/graph_evolution/graph_{time_index}.png')"
   ]
  }
 ],
 "metadata": {
  "kernelspec": {
   "display_name": "nextsim_ml",
   "language": "python",
   "name": "python3"
  },
  "language_info": {
   "codemirror_mode": {
    "name": "ipython",
    "version": 3
   },
   "file_extension": ".py",
   "mimetype": "text/x-python",
   "name": "python",
   "nbconvert_exporter": "python",
   "pygments_lexer": "ipython3",
   "version": "3.11.5"
  }
 },
 "nbformat": 4,
 "nbformat_minor": 2
}
